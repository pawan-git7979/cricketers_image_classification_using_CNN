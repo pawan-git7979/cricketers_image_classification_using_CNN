{
  "nbformat": 4,
  "nbformat_minor": 0,
  "metadata": {
    "colab": {
      "name": "Transfer_learning.ipynb",
      "provenance": [],
      "collapsed_sections": []
    },
    "kernelspec": {
      "name": "python3",
      "display_name": "Python 3"
    },
    "language_info": {
      "name": "python"
    },
    "accelerator": "GPU"
  },
  "cells": [
    {
      "cell_type": "code",
      "metadata": {
        "colab": {
          "base_uri": "https://localhost:8080/"
        },
        "id": "oWsJHZG5kKSb",
        "outputId": "14ca7f21-1211-4693-c40a-3cd2db6d0880"
      },
      "source": [
        "print(\"hello world\")"
      ],
      "execution_count": 1,
      "outputs": [
        {
          "output_type": "stream",
          "text": [
            "hello world\n"
          ],
          "name": "stdout"
        }
      ]
    },
    {
      "cell_type": "code",
      "metadata": {
        "id": "HcgdDQ01rQqZ"
      },
      "source": [
        "from keras.layers import Input, Lambda, Dense, Flatten\n",
        "from keras.models import Model\n",
        "from keras.applications.vgg16 import VGG16\n",
        "from keras.applications.vgg16 import preprocess_input\n",
        "from keras.preprocessing import image\n",
        "from keras.preprocessing.image import ImageDataGenerator\n",
        "from keras.models import Sequential\n",
        "import numpy as np\n",
        "from glob import glob\n",
        "import matplotlib.pyplot as plt\n"
      ],
      "execution_count": 2,
      "outputs": []
    },
    {
      "cell_type": "markdown",
      "metadata": {
        "id": "EaxA_wWeKrDZ"
      },
      "source": [
        "resize all images to this size"
      ]
    },
    {
      "cell_type": "code",
      "metadata": {
        "id": "dCk-C1fUrYFy"
      },
      "source": [
        "IMAGE_SIZE = [250, 250]\n"
      ],
      "execution_count": 3,
      "outputs": []
    },
    {
      "cell_type": "markdown",
      "metadata": {
        "id": "lXCHwDhyLNxz"
      },
      "source": [
        "add preprocessing layer to the front of VGG\n"
      ]
    },
    {
      "cell_type": "code",
      "metadata": {
        "colab": {
          "base_uri": "https://localhost:8080/"
        },
        "id": "rNHtRvb9ra10",
        "outputId": "70c4124d-0920-43e7-c209-3dbdc80ef67b"
      },
      "source": [
        "vgg = VGG16(input_shape=IMAGE_SIZE + [3], weights='imagenet', include_top=False)\n"
      ],
      "execution_count": 4,
      "outputs": [
        {
          "output_type": "stream",
          "text": [
            "Downloading data from https://storage.googleapis.com/tensorflow/keras-applications/vgg16/vgg16_weights_tf_dim_ordering_tf_kernels_notop.h5\n",
            "58892288/58889256 [==============================] - 0s 0us/step\n"
          ],
          "name": "stdout"
        }
      ]
    },
    {
      "cell_type": "markdown",
      "metadata": {
        "id": "m7yY4RUOLSmq"
      },
      "source": [
        "don't train existing weights"
      ]
    },
    {
      "cell_type": "code",
      "metadata": {
        "id": "iP2ueUpyrdgZ"
      },
      "source": [
        "for layer in vgg.layers:\n",
        "  layer.trainable = False\n"
      ],
      "execution_count": 5,
      "outputs": []
    },
    {
      "cell_type": "markdown",
      "metadata": {
        "id": "v6LqJHK9LaDi"
      },
      "source": [
        " useful for getting number of classes\n"
      ]
    },
    {
      "cell_type": "code",
      "metadata": {
        "id": "DBzEacxdrml0"
      },
      "source": [
        "folders = glob('/content/drive/MyDrive/players_data/train_data/*')\n"
      ],
      "execution_count": 6,
      "outputs": []
    },
    {
      "cell_type": "code",
      "metadata": {
        "id": "is6xIrLPrvFO"
      },
      "source": [
        "x = Flatten()(vgg.output)\n"
      ],
      "execution_count": 7,
      "outputs": []
    },
    {
      "cell_type": "code",
      "metadata": {
        "id": "xGN71mPFrx4w"
      },
      "source": [
        "prediction = Dense(len(folders), activation='softmax')(x)\n"
      ],
      "execution_count": 8,
      "outputs": []
    },
    {
      "cell_type": "markdown",
      "metadata": {
        "id": "LOx8AVTxLq2U"
      },
      "source": [
        "create a model object\n"
      ]
    },
    {
      "cell_type": "code",
      "metadata": {
        "id": "inLWo_5Er0oe"
      },
      "source": [
        "model = Model(inputs=vgg.input, outputs=prediction)\n",
        "\n"
      ],
      "execution_count": 9,
      "outputs": []
    },
    {
      "cell_type": "markdown",
      "metadata": {
        "id": "BUdcNy-qLw4P"
      },
      "source": [
        "view the structure of the model\n"
      ]
    },
    {
      "cell_type": "code",
      "metadata": {
        "colab": {
          "base_uri": "https://localhost:8080/"
        },
        "id": "MwDiXXEUr3C2",
        "outputId": "428df34c-bd14-4bd5-efb2-39570f8eaf86"
      },
      "source": [
        "model.summary()\n"
      ],
      "execution_count": 10,
      "outputs": [
        {
          "output_type": "stream",
          "text": [
            "Model: \"model\"\n",
            "_________________________________________________________________\n",
            "Layer (type)                 Output Shape              Param #   \n",
            "=================================================================\n",
            "input_1 (InputLayer)         [(None, 250, 250, 3)]     0         \n",
            "_________________________________________________________________\n",
            "block1_conv1 (Conv2D)        (None, 250, 250, 64)      1792      \n",
            "_________________________________________________________________\n",
            "block1_conv2 (Conv2D)        (None, 250, 250, 64)      36928     \n",
            "_________________________________________________________________\n",
            "block1_pool (MaxPooling2D)   (None, 125, 125, 64)      0         \n",
            "_________________________________________________________________\n",
            "block2_conv1 (Conv2D)        (None, 125, 125, 128)     73856     \n",
            "_________________________________________________________________\n",
            "block2_conv2 (Conv2D)        (None, 125, 125, 128)     147584    \n",
            "_________________________________________________________________\n",
            "block2_pool (MaxPooling2D)   (None, 62, 62, 128)       0         \n",
            "_________________________________________________________________\n",
            "block3_conv1 (Conv2D)        (None, 62, 62, 256)       295168    \n",
            "_________________________________________________________________\n",
            "block3_conv2 (Conv2D)        (None, 62, 62, 256)       590080    \n",
            "_________________________________________________________________\n",
            "block3_conv3 (Conv2D)        (None, 62, 62, 256)       590080    \n",
            "_________________________________________________________________\n",
            "block3_pool (MaxPooling2D)   (None, 31, 31, 256)       0         \n",
            "_________________________________________________________________\n",
            "block4_conv1 (Conv2D)        (None, 31, 31, 512)       1180160   \n",
            "_________________________________________________________________\n",
            "block4_conv2 (Conv2D)        (None, 31, 31, 512)       2359808   \n",
            "_________________________________________________________________\n",
            "block4_conv3 (Conv2D)        (None, 31, 31, 512)       2359808   \n",
            "_________________________________________________________________\n",
            "block4_pool (MaxPooling2D)   (None, 15, 15, 512)       0         \n",
            "_________________________________________________________________\n",
            "block5_conv1 (Conv2D)        (None, 15, 15, 512)       2359808   \n",
            "_________________________________________________________________\n",
            "block5_conv2 (Conv2D)        (None, 15, 15, 512)       2359808   \n",
            "_________________________________________________________________\n",
            "block5_conv3 (Conv2D)        (None, 15, 15, 512)       2359808   \n",
            "_________________________________________________________________\n",
            "block5_pool (MaxPooling2D)   (None, 7, 7, 512)         0         \n",
            "_________________________________________________________________\n",
            "flatten (Flatten)            (None, 25088)             0         \n",
            "_________________________________________________________________\n",
            "dense (Dense)                (None, 15)                376335    \n",
            "=================================================================\n",
            "Total params: 15,091,023\n",
            "Trainable params: 376,335\n",
            "Non-trainable params: 14,714,688\n",
            "_________________________________________________________________\n"
          ],
          "name": "stdout"
        }
      ]
    },
    {
      "cell_type": "markdown",
      "metadata": {
        "id": "dwIRbmGOMA0g"
      },
      "source": [
        "tell the model what cost and optimization method to use\n"
      ]
    },
    {
      "cell_type": "code",
      "metadata": {
        "id": "_JOu_FL_r5IC"
      },
      "source": [
        "model.compile(\n",
        "  loss='categorical_crossentropy',\n",
        "  optimizer='adam',\n",
        "  metrics=['accuracy']\n",
        ")"
      ],
      "execution_count": 11,
      "outputs": []
    },
    {
      "cell_type": "code",
      "metadata": {
        "id": "iGhO6j2ouAzW"
      },
      "source": [
        "from keras.preprocessing.image import ImageDataGenerator\n"
      ],
      "execution_count": 12,
      "outputs": []
    },
    {
      "cell_type": "code",
      "metadata": {
        "id": "418-0PowuDGJ"
      },
      "source": [
        "train_datagen = ImageDataGenerator(rescale = 1./255,\n",
        "                                   shear_range = 0.2,\n",
        "                                   zoom_range = 0.3,\n",
        "                                   horizontal_flip = True)\n"
      ],
      "execution_count": 15,
      "outputs": []
    },
    {
      "cell_type": "code",
      "metadata": {
        "id": "dYpq3u5ouGbJ"
      },
      "source": [
        "\n",
        "test_datagen = ImageDataGenerator(rescale = 1./255)\n"
      ],
      "execution_count": 16,
      "outputs": []
    },
    {
      "cell_type": "code",
      "metadata": {
        "colab": {
          "base_uri": "https://localhost:8080/"
        },
        "id": "20PT5qNSuJ9M",
        "outputId": "8b82430d-4f69-41cf-aafa-0f4380cbead0"
      },
      "source": [
        "training_set = train_datagen.flow_from_directory('/content/drive/MyDrive/players_data/train_data',\n",
        "                                                 target_size = (250, 250),\n",
        "                                                 batch_size = 128,\n",
        "                                                 class_mode = 'categorical')\n",
        "\n"
      ],
      "execution_count": 17,
      "outputs": [
        {
          "output_type": "stream",
          "text": [
            "Found 462 images belonging to 15 classes.\n"
          ],
          "name": "stdout"
        }
      ]
    },
    {
      "cell_type": "code",
      "metadata": {
        "colab": {
          "base_uri": "https://localhost:8080/"
        },
        "id": "lF81FEpXuUT_",
        "outputId": "b74562fa-1821-4a7c-93de-aed40ff322c8"
      },
      "source": [
        "test_set = test_datagen.flow_from_directory('/content/drive/MyDrive/players_data/test_data',\n",
        "                                            target_size = (250, 250),\n",
        "                                            batch_size = 128,\n",
        "                                            class_mode = 'categorical')\n"
      ],
      "execution_count": 18,
      "outputs": [
        {
          "output_type": "stream",
          "text": [
            "Found 114 images belonging to 15 classes.\n"
          ],
          "name": "stdout"
        }
      ]
    },
    {
      "cell_type": "markdown",
      "metadata": {
        "id": "q7PIvsGIMJhB"
      },
      "source": [
        "fit the model\n"
      ]
    },
    {
      "cell_type": "code",
      "metadata": {
        "colab": {
          "base_uri": "https://localhost:8080/"
        },
        "id": "NjNDIxpbucAX",
        "outputId": "108056b0-496c-45e4-d617-b82a5c3ca586"
      },
      "source": [
        "r = model.fit_generator(\n",
        "  training_set,\n",
        "  validation_data=test_set,\n",
        "  epochs=20,\n",
        "  steps_per_epoch=len(training_set),\n",
        "  validation_steps=len(test_set)\n",
        ")\n"
      ],
      "execution_count": 19,
      "outputs": [
        {
          "output_type": "stream",
          "text": [
            "/usr/local/lib/python3.7/dist-packages/tensorflow/python/keras/engine/training.py:1844: UserWarning: `Model.fit_generator` is deprecated and will be removed in a future version. Please use `Model.fit`, which supports generators.\n",
            "  warnings.warn('`Model.fit_generator` is deprecated and '\n"
          ],
          "name": "stderr"
        },
        {
          "output_type": "stream",
          "text": [
            "Epoch 1/20\n",
            "4/4 [==============================] - 185s 44s/step - loss: 3.4712 - accuracy: 0.0883 - val_loss: 3.8640 - val_accuracy: 0.1404\n",
            "Epoch 2/20\n",
            "4/4 [==============================] - 10s 2s/step - loss: 3.0868 - accuracy: 0.2192 - val_loss: 3.2300 - val_accuracy: 0.2018\n",
            "Epoch 3/20\n",
            "4/4 [==============================] - 10s 3s/step - loss: 2.3133 - accuracy: 0.4426 - val_loss: 2.6179 - val_accuracy: 0.2719\n",
            "Epoch 4/20\n",
            "4/4 [==============================] - 10s 2s/step - loss: 1.7430 - accuracy: 0.4664 - val_loss: 2.5863 - val_accuracy: 0.2895\n",
            "Epoch 5/20\n",
            "4/4 [==============================] - 10s 2s/step - loss: 1.4486 - accuracy: 0.5750 - val_loss: 2.4385 - val_accuracy: 0.3158\n",
            "Epoch 6/20\n",
            "4/4 [==============================] - 10s 3s/step - loss: 1.2919 - accuracy: 0.6431 - val_loss: 2.2823 - val_accuracy: 0.3860\n",
            "Epoch 7/20\n",
            "4/4 [==============================] - 10s 2s/step - loss: 0.9488 - accuracy: 0.7659 - val_loss: 2.1851 - val_accuracy: 0.4035\n",
            "Epoch 8/20\n",
            "4/4 [==============================] - 10s 2s/step - loss: 0.9046 - accuracy: 0.7662 - val_loss: 2.0832 - val_accuracy: 0.4211\n",
            "Epoch 9/20\n",
            "4/4 [==============================] - 10s 2s/step - loss: 0.6838 - accuracy: 0.8420 - val_loss: 2.0270 - val_accuracy: 0.3947\n",
            "Epoch 10/20\n",
            "4/4 [==============================] - 10s 2s/step - loss: 0.6151 - accuracy: 0.8822 - val_loss: 2.0200 - val_accuracy: 0.4474\n",
            "Epoch 11/20\n",
            "4/4 [==============================] - 10s 2s/step - loss: 0.5174 - accuracy: 0.9138 - val_loss: 1.9239 - val_accuracy: 0.4649\n",
            "Epoch 12/20\n",
            "4/4 [==============================] - 10s 2s/step - loss: 0.4005 - accuracy: 0.9554 - val_loss: 1.9281 - val_accuracy: 0.4737\n",
            "Epoch 13/20\n",
            "4/4 [==============================] - 10s 2s/step - loss: 0.3642 - accuracy: 0.9482 - val_loss: 1.9417 - val_accuracy: 0.5000\n",
            "Epoch 14/20\n",
            "4/4 [==============================] - 10s 3s/step - loss: 0.3281 - accuracy: 0.9648 - val_loss: 1.8305 - val_accuracy: 0.4912\n",
            "Epoch 15/20\n",
            "4/4 [==============================] - 10s 3s/step - loss: 0.2828 - accuracy: 0.9823 - val_loss: 1.8390 - val_accuracy: 0.4912\n",
            "Epoch 16/20\n",
            "4/4 [==============================] - 10s 2s/step - loss: 0.2453 - accuracy: 0.9774 - val_loss: 1.9002 - val_accuracy: 0.5088\n",
            "Epoch 17/20\n",
            "4/4 [==============================] - 10s 2s/step - loss: 0.2282 - accuracy: 0.9807 - val_loss: 1.8280 - val_accuracy: 0.5000\n",
            "Epoch 18/20\n",
            "4/4 [==============================] - 10s 2s/step - loss: 0.1911 - accuracy: 0.9934 - val_loss: 1.8190 - val_accuracy: 0.5263\n",
            "Epoch 19/20\n",
            "4/4 [==============================] - 10s 2s/step - loss: 0.1763 - accuracy: 0.9951 - val_loss: 1.8953 - val_accuracy: 0.5351\n",
            "Epoch 20/20\n",
            "4/4 [==============================] - 10s 2s/step - loss: 0.1759 - accuracy: 0.9941 - val_loss: 1.8970 - val_accuracy: 0.4912\n"
          ],
          "name": "stdout"
        }
      ]
    },
    {
      "cell_type": "markdown",
      "metadata": {
        "id": "JdPQFNjRMX_T"
      },
      "source": [
        "loss"
      ]
    },
    {
      "cell_type": "code",
      "metadata": {
        "colab": {
          "base_uri": "https://localhost:8080/",
          "height": 285
        },
        "id": "8aNypJGcup5h",
        "outputId": "553c8b21-937b-4a73-e85f-b376a2319ce3"
      },
      "source": [
        "plt.plot(r.history['loss'], label='train loss')\n",
        "plt.plot(r.history['val_loss'], label='val loss')\n",
        "plt.legend()\n",
        "plt.show()\n",
        "plt.savefig('LossVal_loss')\n"
      ],
      "execution_count": 20,
      "outputs": [
        {
          "output_type": "display_data",
          "data": {
            "image/png": "[encoded data removed]",
            "text/plain": [
              "<Figure size 432x288 with 1 Axes>"
            ]
          },
          "metadata": {
            "tags": [],
            "needs_background": "light"
          }
        },
        {
          "output_type": "display_data",
          "data": {
            "text/plain": [
              "<Figure size 432x288 with 0 Axes>"
            ]
          },
          "metadata": {
            "tags": []
          }
        }
      ]
    },
    {
      "cell_type": "markdown",
      "metadata": {
        "id": "fBBIwPxHMdDB"
      },
      "source": [
        "accuracies"
      ]
    },
    {
      "cell_type": "code",
      "metadata": {
        "colab": {
          "base_uri": "https://localhost:8080/",
          "height": 283
        },
        "id": "ojR8vx_tw8BY",
        "outputId": "4f07eac6-b0c3-487b-a48d-d7a8c461ea2c"
      },
      "source": [
        "plt.plot(r.history['accuracy'], label='train acc')\n",
        "plt.plot(r.history['val_accuracy'], label='val acc')\n",
        "plt.legend()\n",
        "plt.show()\n",
        "plt.savefig('AccVal_acc')\n"
      ],
      "execution_count": 21,
      "outputs": [
        {
          "output_type": "display_data",
          "data": {
            "image/png": "[encoded data removed]",
            "text/plain": [
              "<Figure size 432x288 with 1 Axes>"
            ]
          },
          "metadata": {
            "tags": [],
            "needs_background": "light"
          }
        },
        {
          "output_type": "display_data",
          "data": {
            "text/plain": [
              "<Figure size 432x288 with 0 Axes>"
            ]
          },
          "metadata": {
            "tags": []
          }
        }
      ]
    },
    {
      "cell_type": "code",
      "metadata": {
        "id": "4Wn5ObH1xAYa"
      },
      "source": [
        ""
      ],
      "execution_count": null,
      "outputs": []
    }
  ]
}